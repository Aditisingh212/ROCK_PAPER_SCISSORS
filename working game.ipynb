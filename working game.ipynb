{
 "cells": [
  {
   "cell_type": "code",
   "execution_count": 6,
   "id": "ce791070",
   "metadata": {},
   "outputs": [
    {
     "name": "stdout",
     "output_type": "stream",
     "text": [
      "What is your choice? 'r' for rock, 'p' for paper, 's' for scissors: p\n",
      "\n",
      "You chose p, computer chose s.\n",
      "You lost!\n"
     ]
    }
   ],
   "source": [
    "import random\n",
    "\n",
    "def play():\n",
    "    user = input(\"What is your choice? 'r' for rock, 'p' for paper, 's' for scissors: \").lower()\n",
    "    computer = random.choice(['r', 'p', 's'])\n",
    "\n",
    "    print(f\"\\nYou chose {user}, computer chose {computer}.\")\n",
    "\n",
    "    if user == computer:\n",
    "        return \"It's a tie!\"\n",
    "\n",
    "    if is_win(user, computer):\n",
    "        return \"You win!\"\n",
    "    return \"You lost!\"\n",
    "\n",
    "def is_win(player, opponent):\n",
    "    # returns True if player beats opponent\n",
    "    return (player == 'r' and opponent == 's') or \\\n",
    "           (player == 's' and opponent == 'p') or \\\n",
    "           (player == 'p' and opponent == 'r')\n",
    "\n",
    "# Call the function to play\n",
    "print(play())\n"
   ]
  },
  {
   "cell_type": "code",
   "execution_count": null,
   "id": "edcc245c",
   "metadata": {},
   "outputs": [],
   "source": []
  },
  {
   "cell_type": "raw",
   "id": "e174fbe2",
   "metadata": {},
   "source": []
  }
 ],
 "metadata": {
  "kernelspec": {
   "display_name": "Python 3 (ipykernel)",
   "language": "python",
   "name": "python3"
  },
  "language_info": {
   "codemirror_mode": {
    "name": "ipython",
    "version": 3
   },
   "file_extension": ".py",
   "mimetype": "text/x-python",
   "name": "python",
   "nbconvert_exporter": "python",
   "pygments_lexer": "ipython3",
   "version": "3.9.12"
  }
 },
 "nbformat": 4,
 "nbformat_minor": 5
}
